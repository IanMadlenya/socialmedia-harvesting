{
 "cells": [
  {
   "cell_type": "markdown",
   "metadata": {},
   "source": [
    "# Linkedin Data Collection"
   ]
  },
  {
   "cell_type": "markdown",
   "metadata": {},
   "source": [
    "## Authorization"
   ]
  },
  {
   "cell_type": "markdown",
   "metadata": {
    "collapsed": true
   },
   "source": [
    "https://developer.linkedin.com/docs/oauth2"
   ]
  },
  {
   "cell_type": "code",
   "execution_count": 2,
   "metadata": {
    "collapsed": true
   },
   "outputs": [],
   "source": [
    "import oauth2\n",
    "import requests\n",
    "import json\n",
    "import urllib\n",
    "import urllib2"
   ]
  },
  {
   "cell_type": "code",
   "execution_count": 1,
   "metadata": {
    "collapsed": true
   },
   "outputs": [],
   "source": [
    "API_KEY = 'YOUR API KEY'\n",
    "API_SECRET = 'YOUR API SECRET'\n",
    "RETURN_URL = 'https://semihakbayrak.github.io'"
   ]
  },
  {
   "cell_type": "code",
   "execution_count": 4,
   "metadata": {
    "collapsed": false
   },
   "outputs": [],
   "source": [
    "#This is the url, a user should click to be directed to permission pop-up\n",
    "permission_url = \"https://www.linkedin.com/uas/oauth2/authorization?scope=r_basicprofile%20rw_company_admin%20r_emailaddress&state=2484ecd2faaecbd4d5882b0d8e021090&redirect_uri=https%3A//semihakbayrak.github.io&response_type=code&client_id=\"+API_KEY"
   ]
  },
  {
   "cell_type": "code",
   "execution_count": 2,
   "metadata": {
    "collapsed": true
   },
   "outputs": [],
   "source": [
    "# Code gotten from redirected url\n",
    "generated_code = \"Code gotten from redirected url\""
   ]
  },
  {
   "cell_type": "code",
   "execution_count": 21,
   "metadata": {
    "collapsed": false
   },
   "outputs": [],
   "source": [
    "access_token_request = \"https://www.linkedin.com/oauth/v2/accessToken?grant_type=authorization_code&code=\"+generated_code+\"&redirect_uri=https%3A//semihakbayrak.github.io&client_id=\"+API_KEY+\"&client_secret=\"+API_SECRET\n",
    "url = urllib.urlopen(access_token_request).read()\n",
    "result = json.loads(url)"
   ]
  },
  {
   "cell_type": "code",
   "execution_count": 23,
   "metadata": {
    "collapsed": false
   },
   "outputs": [],
   "source": [
    "access_token = result['access_token']"
   ]
  },
  {
   "cell_type": "markdown",
   "metadata": {},
   "source": [
    "## User Profile"
   ]
  },
  {
   "cell_type": "markdown",
   "metadata": {},
   "source": [
    "https://developer.linkedin.com/docs/fields/basic-profile"
   ]
  },
  {
   "cell_type": "code",
   "execution_count": 40,
   "metadata": {
    "collapsed": true
   },
   "outputs": [],
   "source": [
    "r=requests.get(\"https://api.linkedin.com/v1/people/~:(firstName,lastName,location,id,num-connections,picture-url,industry,summary,specialties)?format=json\", headers={\"Connection\": \"Keep-Alive\",\"Authorization\": \"Bearer \"+access_token});"
   ]
  },
  {
   "cell_type": "code",
   "execution_count": 41,
   "metadata": {
    "collapsed": false
   },
   "outputs": [
    {
     "data": {
      "text/plain": [
       "{u'firstName': u'Arman',\n",
       " u'id': u'pb_uMzjyIG',\n",
       " u'industry': u'Information Technology and Services',\n",
       " u'lastName': u'Boyac\\u0131, Ph.D.',\n",
       " u'location': {u'country': {u'code': u'tr'}, u'name': u'Turkey'},\n",
       " u'numConnections': 500,\n",
       " u'pictureUrl': u'https://media.licdn.com/mpr/mprx/0_Cc2LxDd8mL-I4SNuDQZHAJF87ANE4uEyC1ZwJZy8mkMI4porC395qeH8W8YEZmwKaQswcsFh_F_wUebjIkdJBJE26F_oUHmymkd6y4x3D6nQlOvhGzxepulrQtMV-HJSFFSdRQiG9P9',\n",
       " u'summary': u'Specialties: Combinatorial Optimization, Graph Theory, Operations Research, Machine Learning, Pattern Recognition, Web Design, Web-based Applications'}"
      ]
     },
     "execution_count": 41,
     "metadata": {},
     "output_type": "execute_result"
    }
   ],
   "source": [
    "r.json()"
   ]
  },
  {
   "cell_type": "code",
   "execution_count": 42,
   "metadata": {
    "collapsed": true
   },
   "outputs": [],
   "source": [
    "import urllib, cStringIO\n",
    "from PIL import Image\n",
    "from IPython import display"
   ]
  },
  {
   "cell_type": "code",
   "execution_count": 43,
   "metadata": {
    "collapsed": false
   },
   "outputs": [
    {
     "data": {
      "image/png": "[encoded data removed]",
      "text/plain": [
       "<PIL.JpegImagePlugin.JpegImageFile image mode=RGB size=80x80 at 0x7F8FD8F72750>"
      ]
     },
     "metadata": {},
     "output_type": "display_data"
    }
   ],
   "source": [
    "URL = \"https://media.licdn.com/mpr/mprx/0_Cc2LxDd8mL-I4SNuDQZHAJF87ANE4uEyC1ZwJZy8mkMI4porC395qeH8W8YEZmwKaQswcsFh_F_wUebjIkdJBJE26F_oUHmymkd6y4x3D6nQlOvhGzxepulrQtMV-HJSFFSdRQiG9P9\"\n",
    "file = cStringIO.StringIO(urllib.urlopen(URL).read())\n",
    "img = Image.open(file)\n",
    "display.display(img)"
   ]
  },
  {
   "cell_type": "markdown",
   "metadata": {},
   "source": [
    "## Company Pages"
   ]
  },
  {
   "cell_type": "markdown",
   "metadata": {},
   "source": [
    "https://developer.linkedin.com/docs/company-pages"
   ]
  },
  {
   "cell_type": "code",
   "execution_count": 11,
   "metadata": {
    "collapsed": true
   },
   "outputs": [],
   "source": [
    "r=requests.get(\"https://api.linkedin.com/v1/companies/17906074?format=json\", headers={\"Connection\": \"Keep-Alive\",\"Authorization\": \"Bearer \"+access_token});"
   ]
  },
  {
   "cell_type": "code",
   "execution_count": 12,
   "metadata": {
    "collapsed": false
   },
   "outputs": [
    {
     "name": "stdout",
     "output_type": "stream",
     "text": [
      "{u'id': 17906074, u'name': u'Exponima'}\n"
     ]
    }
   ],
   "source": [
    "print r.json()"
   ]
  },
  {
   "cell_type": "code",
   "execution_count": 13,
   "metadata": {
    "collapsed": true
   },
   "outputs": [],
   "source": [
    "r=requests.get(\"https://api.linkedin.com/v1/companies/17906074:(id,name,ticker,description)?format=json\", headers={\"Connection\": \"Keep-Alive\",\"Authorization\": \"Bearer \"+access_token});"
   ]
  },
  {
   "cell_type": "code",
   "execution_count": 14,
   "metadata": {
    "collapsed": false
   },
   "outputs": [
    {
     "name": "stdout",
     "output_type": "stream",
     "text": [
      "{u'description': u'Machine Learning research and projects for public good, non-profit organizations, and cultural activities.', u'name': u'Exponima', u'id': 17906074}\n"
     ]
    }
   ],
   "source": [
    "print r.json()"
   ]
  },
  {
   "cell_type": "markdown",
   "metadata": {},
   "source": [
    "## Page Posts"
   ]
  },
  {
   "cell_type": "markdown",
   "metadata": {},
   "source": [
    "Post content, likes, and comments."
   ]
  },
  {
   "cell_type": "code",
   "execution_count": 15,
   "metadata": {
    "collapsed": true
   },
   "outputs": [],
   "source": [
    "r=requests.get(\"https://api.linkedin.com/v1/companies/17906074/updates?format=json\", headers={\"Connection\": \"Keep-Alive\",\"Authorization\": \"Bearer \"+access_token});"
   ]
  }
 ],
 "metadata": {
  "kernelspec": {
   "display_name": "Python 2",
   "language": "python",
   "name": "python2"
  },
  "language_info": {
   "codemirror_mode": {
    "name": "ipython",
    "version": 2
   },
   "file_extension": ".py",
   "mimetype": "text/x-python",
   "name": "python",
   "nbconvert_exporter": "python",
   "pygments_lexer": "ipython2",
   "version": "2.7.12"
  }
 },
 "nbformat": 4,
 "nbformat_minor": 1
}
