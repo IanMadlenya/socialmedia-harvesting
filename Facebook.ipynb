{
 "cells": [
  {
   "cell_type": "markdown",
   "metadata": {},
   "source": [
    "# Facebook Data Collection"
   ]
  },
  {
   "cell_type": "markdown",
   "metadata": {},
   "source": [
    "##  Graph API Fundementals"
   ]
  },
  {
   "cell_type": "markdown",
   "metadata": {},
   "source": [
    "Graph API is the main tool to fetch information about **users, pages, groups** etc. and it is the only way to get (limited) information of users and interaction between them. \n",
    "\n",
    "Graphs in facebook are formed by 3 main items:\n",
    "- **nodes**: users, pages, groups, photos, etc.\n",
    "- **fields**: information about a node. \n",
    "- **edges**: links between two nodes."
   ]
  },
  {
   "cell_type": "markdown",
   "metadata": {},
   "source": [
    "## Privacy and How to Fetch Data"
   ]
  },
  {
   "cell_type": "markdown",
   "metadata": {},
   "source": [
    "Privacy issues of facebook is very **strict** so we are very limited to fetch data about users. \n",
    "\n",
    "- User data can only be fetched via user's permission\n",
    "- Default permissions are limited, it only allows us to get user's email, public profile(gender,profile photo etc.), user's friends who also use our app\n",
    "- If we want to get a user's post we need user_post permission.\n",
    "- There is no way to get all the friends of a user\n",
    "- If we create a group, we are allowed to fetch all the posts but we can't reach the information of user's identity who created the post.\n",
    "\n",
    "The only way to fetch data about a user is to create an **application**. If the user gives permission for your app, then you may start to fetch info about user but the content of information is also very limited as an example there is no way to learn the user's friends list as it is stated in the following url https://www.quora.com/How-do-I-get-all-friends-on-Facebook-using-Facebook-API-and-Python. \n",
    "\n",
    "On the other hand you can learn public profile info of a user like *age, gender* and you can also get the user's friends who also use your application and this last information should be enough to create a graph of people in a community."
   ]
  },
  {
   "cell_type": "markdown",
   "metadata": {},
   "source": [
    "## Application Development"
   ]
  },
  {
   "cell_type": "markdown",
   "metadata": {},
   "source": [
    "https://developers.facebook.com This url is the main place to find guidence and to develop application. There are different kinds of application environment types like web site, canvas, mobile. For our case, web site seems the most relevant one and basic development in the following shells has been done in this environment."
   ]
  },
  {
   "cell_type": "markdown",
   "metadata": {},
   "source": [
    "### App Development Step 1: App Creation"
   ]
  },
  {
   "cell_type": "markdown",
   "metadata": {},
   "source": [
    "1. Create a new app and facebook will provide required **app_id** and **app_secret** information to you in dashboard section. \n",
    "2. Go settings and add web site environment with a url. \n",
    "3. Add a product (facebook login) to get required permissions from a user. Facebook will ask you to enter Valid OAuth redirect URIs. This part is important because we are going to get some key values via these urls and use them to get access_token specific to each user. \n",
    "4. Don't forget to publish application."
   ]
  },
  {
   "cell_type": "markdown",
   "metadata": {},
   "source": [
    "### App Development Step 2: Permission Handling"
   ]
  },
  {
   "cell_type": "markdown",
   "metadata": {},
   "source": [
    "Then we need to ask people to share their information with us and these steps can be done by following the steps in the url https://developers.facebook.com/docs/facebook-login/manually-build-a-login-flow. A web app can be used to handle these steps and get information about user."
   ]
  },
  {
   "cell_type": "code",
   "execution_count": 43,
   "metadata": {
    "collapsed": true
   },
   "outputs": [],
   "source": [
    "import requests\n",
    "import json\n",
    "import urllib\n",
    "import urllib2"
   ]
  },
  {
   "cell_type": "code",
   "execution_count": 2,
   "metadata": {
    "collapsed": false
   },
   "outputs": [],
   "source": [
    "#info about our app\n",
    "api_version = \"v2.8\"\n",
    "app_id = \"YOUR APP_ID\"\n",
    "app_secret = \"YOUR APP_SECRET\""
   ]
  },
  {
   "cell_type": "code",
   "execution_count": 45,
   "metadata": {
    "collapsed": true
   },
   "outputs": [],
   "source": [
    "# we need to produce an access_token for our app\n",
    "r = requests.get('https://graph.facebook.com/oauth/access_token?grant_type=client_credentials&client_id='+app_id+'&client_secret='+app_secret)\n",
    "app_access_token = r.text.split('=')[1]"
   ]
  },
  {
   "cell_type": "code",
   "execution_count": 46,
   "metadata": {
    "collapsed": true
   },
   "outputs": [],
   "source": [
    "# we will apply get and post methods in localhost for now\n",
    "redirect_uri = 'http://127.0.0.1:5000/'"
   ]
  },
  {
   "cell_type": "code",
   "execution_count": 47,
   "metadata": {
    "collapsed": true
   },
   "outputs": [],
   "source": [
    "#this is the url a user should click to give permission to our app\n",
    "signup_url = \"https://www.facebook.com/v2.8/dialog/oauth?client_id=\"+app_id+\"&redirect_uri=http://127.0.0.1:5000/\""
   ]
  },
  {
   "cell_type": "markdown",
   "metadata": {},
   "source": [
    "When a user click this signup_url facebook will show him/her a popup to accept or deny permissions. After getting permission, facebook will send a code to redirection url address. This code will be used to get user access_token."
   ]
  },
  {
   "cell_type": "code",
   "execution_count": 1,
   "metadata": {
    "collapsed": true
   },
   "outputs": [],
   "source": [
    "code = \"CODE YOU GOT\""
   ]
  },
  {
   "cell_type": "code",
   "execution_count": 6,
   "metadata": {
    "collapsed": false
   },
   "outputs": [],
   "source": [
    "#by using code and other variables we request acess token for a user\n",
    "request_url = 'https://graph.facebook.com/v2.8/oauth/access_token?client_id='+app_id+'&redirect_uri='+redirect_uri+'&client_secret='+app_secret+'&code='+code\n",
    "url = urllib.urlopen(request_url).read()\n",
    "result = json.loads(url)"
   ]
  },
  {
   "cell_type": "code",
   "execution_count": 8,
   "metadata": {
    "collapsed": false
   },
   "outputs": [],
   "source": [
    "user_access_token = result['access_token']"
   ]
  },
  {
   "cell_type": "code",
   "execution_count": 11,
   "metadata": {
    "collapsed": false
   },
   "outputs": [
    {
     "name": "stdout",
     "output_type": "stream",
     "text": [
      "{u'data': {u'scopes': [u'email', u'public_profile'], u'user_id': u'10209081109077283', u'app_id': u'330527133972801', u'expires_at': 1488624003, u'application': u'ShakerMaker3', u'is_valid': True, u'issued_at': 1483440003}}\n"
     ]
    }
   ],
   "source": [
    "#by using user access token we request user id\n",
    "request_url = 'https://graph.facebook.com/debug_token?input_token='+user_access_token+'&access_token='+app_access_token\n",
    "url = urllib.urlopen(request_url).read()\n",
    "result = json.loads(url)\n",
    "print result\n",
    "user_id = result['data']['user_id']"
   ]
  },
  {
   "cell_type": "code",
   "execution_count": 12,
   "metadata": {
    "collapsed": false
   },
   "outputs": [
    {
     "name": "stdout",
     "output_type": "stream",
     "text": [
      "{u'data': [], u'summary': {u'total_count': 278}}\n"
     ]
    }
   ],
   "source": [
    "#by using user access token and id we request number of friends\n",
    "request_url = 'https://graph.facebook.com/v2.8/'+user_id+'/friends?access_token='+user_access_token\n",
    "url = urllib.urlopen(request_url).read()\n",
    "result = json.loads(url)\n",
    "print result"
   ]
  },
  {
   "cell_type": "code",
   "execution_count": 14,
   "metadata": {
    "collapsed": false
   },
   "outputs": [
    {
     "name": "stdout",
     "output_type": "stream",
     "text": [
      "{u'name': u'Semih Akbayrak', u'id': u'10209081109077283'}\n"
     ]
    }
   ],
   "source": [
    "#by using user access token and id we request info about user\n",
    "request_url = \"https://graph.facebook.com/v2.8/me?access_token=\"+user_access_token\n",
    "url = urllib.urlopen(request_url).read()\n",
    "result = json.loads(url)\n",
    "print result"
   ]
  },
  {
   "cell_type": "markdown",
   "metadata": {},
   "source": [
    "By default settings, only limited info about user can be fetched. If you want to get more info about user, you have to send your application to facebook and they need to approve your application. For all the fields which can be get via graph api, please have a look at https://developers.facebook.com/docs/graph-api/reference/user/"
   ]
  },
  {
   "cell_type": "markdown",
   "metadata": {},
   "source": [
    "## How to Fetch Data from Pages"
   ]
  },
  {
   "cell_type": "markdown",
   "metadata": {},
   "source": [
    "Fetching data from pages (even other pages not necessarily ShakerMaker) is much more simple when compared with fetching user data. By just using our application access token we can get the posts published by page, comments to post, likes to post, and we can also learn the interaction between users by looking at people who liked a comment to post. In the following shells, you can find an example for imdb page."
   ]
  },
  {
   "cell_type": "code",
   "execution_count": 48,
   "metadata": {
    "collapsed": true
   },
   "outputs": [],
   "source": [
    "page_name = 'imdb' #Global variable"
   ]
  },
  {
   "cell_type": "code",
   "execution_count": 49,
   "metadata": {
    "collapsed": false
   },
   "outputs": [
    {
     "name": "stdout",
     "output_type": "stream",
     "text": [
      "{u'name': u'IMDb', u'id': u'15925638948'}\n"
     ]
    }
   ],
   "source": [
    "#General info abour page\n",
    "request_url = \"https://graph.facebook.com/\" + api_version + \"/\" + page_name + \"/?access_token=\" + app_access_token\n",
    "url = urllib.urlopen(request_url).read()\n",
    "result = json.loads(url)\n",
    "page_id = result['id']\n",
    "print result"
   ]
  },
  {
   "cell_type": "markdown",
   "metadata": {},
   "source": [
    "### Posts in a Page"
   ]
  },
  {
   "cell_type": "code",
   "execution_count": 50,
   "metadata": {
    "collapsed": false
   },
   "outputs": [
    {
     "name": "stdout",
     "output_type": "stream",
     "text": [
      "____________________________________________________________________________________________________\n",
      "Get planning: Find out when your favorite television shows premiere this month. http://imdb.to/2ix5PpA\n",
      "____________________________________________________________________________________________________\n",
      "These Globe nominee transformations are next level. http://imdb.to/2hN4fvL\n",
      "____________________________________________________________________________________________________\n",
      "What are you looking forward to watching this year? http://imdb.to/2iwM1mc\n",
      "____________________________________________________________________________________________________\n",
      "Looks like Harrelson is the top choice. http://imdb.to/2ixlxRo\n",
      "____________________________________________________________________________________________________\n",
      "Read on to learn more about what we discovered. http://imdb.to/2ivWfTU\n",
      "____________________________________________________________________________________________________\n",
      "2016 was officially the largest year at the domestic box office of all-time via Box Office Mojo http://imdb.to/2ivWluB\n",
      "____________________________________________________________________________________________________\n",
      "Find out what sets the Golden Globes a part from other awards shows. http://imdb.to/2hMveI0\n",
      "____________________________________________________________________________________________________\n",
      "Every fairy tale has a dark side. Watch the new 'Fifty Shades Darker' trailer. http://imdb.to/2hJq8fs\n",
      "____________________________________________________________________________________________________\n",
      "Michael Fassbender looks to escape his criminal roots in Trespass Against Us, while a curious family forms in Staying Vertical. Check out this month's indie picks:  http://imdb.to/2iqFIR4\n",
      "____________________________________________________________________________________________________\n",
      "Take a stroll down memory lane with our gallery of unforgettable Golden Globes red-carpet photos. http://imdb.to/2hHEa1c\n",
      "____________________________________________________________________________________________________\n",
      "This new year, take the cure.\n",
      "____________________________________________________________________________________________________\n",
      "Actress Thandie Newton has been nominated for a Golden Globes Award for her performance as Maeve in the HBO's Westworld. Take a closer look at her role, as well as other significant parts she's played over the years. http://imdb.to/2hxBTZB\n",
      "____________________________________________________________________________________________________\n",
      "See Saw Gerrera as a rebel before he became a rogue. Catch the special two-part episode of \"Star Wars Rebels\" Saturday, Jan. 7, on Disney XD.\n",
      "____________________________________________________________________________________________________\n",
      "What are you most eager to watch in the coming year? http://imdb.to/2iNE2SR\n",
      "____________________________________________________________________________________________________\n",
      "Take a closer look at the career of Meryl Streep, who will be honored with the Cecil B. DeMille Award at the 2017 Golden Globes. http://imdb.to/2hx0w5p\n",
      "____________________________________________________________________________________________________\n",
      "This month we're looking forward to Tom Hardy's TV venture \"Taboo\" and to seeing how weird things will get in Split, a thriller with James McAvoy and Anya Taylor-Joy. http://imdb.to/2iNuPKb\n",
      "____________________________________________________________________________________________________\n",
      "Here's a salute to some of our favorite fearless and groundbreaking females ever to take care of business in the world of science fiction. http://imdb.to/2hwYCl8\n",
      "____________________________________________________________________________________________________\n",
      "The IMDb audience has spoken: http://imdb.to/2hx99Na\n",
      "____________________________________________________________________________________________________\n",
      "Col Needham, Founder and CEO of IMDb, shares his choices for the 10 best movies of 2016! See the full list: http://imdb.to/2hDAopk\n",
      "____________________________________________________________________________________________________\n",
      "Get release dates and watch the latest trailers for the movies that are hitting theaters near you this winter. http://imdb.to/2hwVlSW\n",
      "____________________________________________________________________________________________________\n",
      "Silence Movie director Martin Scorsese offers a rare insight into his first short film, Vesuvius VI. http://imdb.to/2iNwW0K\n",
      "____________________________________________________________________________________________________\n",
      "On January 1st, 1976, Rocky Balboa fought Apollo Creed for the first time in the Academy Award-winning film \"Rocky.\"\n",
      "____________________________________________________________________________________________________\n",
      "Do you know what caused the biggest buzz in 2016? http://imdb.to/2iNo4Ia\n",
      "____________________________________________________________________________________________________\n",
      "We pay photographic tribute to some of the entertainers we've lost too soon this year. http://imdb.to/2iNjt98\n",
      "____________________________________________________________________________________________________\n",
      "Highly immersive cinematic worlds can carry a movie, and we've rounded up the best of the best. http://imdb.to/2iFYKE9\n"
     ]
    }
   ],
   "source": [
    "request_url = \"https://graph.facebook.com/\" + api_version + \"/\" + page_name + \"/feed?access_token=\" + app_access_token\n",
    "url = urllib.urlopen(request_url).read()\n",
    "result = json.loads(url)\n",
    "for post in result['data']:\n",
    "    print \"_\"*100\n",
    "    print post['message']\n",
    "    #print post['id']"
   ]
  },
  {
   "cell_type": "markdown",
   "metadata": {},
   "source": [
    "### Post Likes"
   ]
  },
  {
   "cell_type": "markdown",
   "metadata": {},
   "source": [
    "We can easily learn who liked the post, in this case we will look at the newest post published by imdb."
   ]
  },
  {
   "cell_type": "code",
   "execution_count": 21,
   "metadata": {
    "collapsed": false
   },
   "outputs": [
    {
     "name": "stdout",
     "output_type": "stream",
     "text": [
      "Get planning: Find out when your favorite television shows premiere this month. http://imdb.to/2ix5PpA\n",
      "____________________________________________________________________________________________________\n",
      "1593960377297808 Perra Sandström\n",
      "1645750259062327 Let Hooker\n",
      "10206420136896999 Chris Smith\n",
      "1175613725819319 Ceyda Nursena Dağhan\n",
      "1472807702752175 Sheikh Zobaid Ur Rahman\n",
      "10210772298211194 Roberto Rudge Fonseca\n",
      "1170467463048617 Jelena Spendrup\n",
      "10154440538346032 Jonna Kurppa\n",
      "180512345756668 Mainak Paul Paul\n",
      "1827328270814097 Tony Pham\n",
      "10206462951172292 Gareth Goose Hunter\n",
      "10208036677776702 Ballina Prishtina\n",
      "930584137075435 Mo'men Ashraf\n",
      "10208170424882938 Corrina Jackson\n",
      "1608949742465515 Amherst Wu\n",
      "222367721554150 Nizra Aziera\n",
      "10154812588493936 Taina Tossavainen\n",
      "1222306861171154 Minchaul Bu\n",
      "10208748799219493 Maureen Sol Briones\n",
      "10158110426775249 Nella Romanova\n",
      "10154053271568204 Madalina Georgescu\n",
      "10210932372207550 Anna István\n",
      "1297893046935064 Vladimir Klimenko\n",
      "10206119946996985 Nguyễn Hạnh\n",
      "1851253201786860 Panajotis Papadeas\n",
      "393882617625236 Eloise Boshoff\n",
      "236060860167392 Malek Mohammad\n",
      "1025617337548462 Samantha Fasshauer\n",
      "10202430402077184 Vivaz Blue\n",
      "556873667845701 Ezekiel Ene\n",
      "10154135644731867 Konstantinos Lykidis\n",
      "1390103981040954 Lachlan Bull\n",
      "10154976122217958 Carlos Arturo Arciniegas\n",
      "1204921469556996 Patricia D'Andrea\n",
      "10154827066141904 May May Sirikan\n",
      "10211997810524465 Sara Pili\n",
      "10209797527107222 Lloyd Litt\n",
      "1438583532860775 Dániel Sölét\n",
      "10154886941077760 Frida Annell\n",
      "1927419967481405 Zainab Imran\n",
      "1846119022334942 Khun D Ne\n",
      "10210266877240707 Sine M. N. Rasmussen\n",
      "1576530292363849 Pavol Kostelník\n",
      "768852179939414 عزالدين عبد الجليل\n",
      "1012924912146178 Mayank Malhotra\n",
      "1295725233803972 Mai S. Pastor\n",
      "428790524175788 Elis Helmersson\n",
      "1452935104717988 Mychael Jones\n",
      "1258187140886358 Kunal Zala\n",
      "1327690777304081 Joseph Mensah\n",
      "1779780062342747 Joanne Smiley Brewster\n",
      "1810829602488678 Abdalla Mamdouh\n",
      "719456324887434 Ahmed Maher Bukhari\n",
      "1064157270349795 Anna Mattsson\n",
      "568558503353017 Indy Vandekerckhove\n",
      "10209520098493459 Fuad Bashirov\n",
      "1297736116956286 Simona Eftimie\n"
     ]
    }
   ],
   "source": [
    "request_url = \"https://graph.facebook.com/\" + api_version + \"/\" + page_name + \"/feed?access_token=\" + app_access_token\n",
    "url = urllib.urlopen(request_url).read()\n",
    "result = json.loads(url)\n",
    "post = result['data'][0]\n",
    "post_id = post['id']\n",
    "\n",
    "print result[\"data\"][0][\"message\"]\n",
    "print \"_\"*100\n",
    "\n",
    "request_url = \"https://graph.facebook.com/\" + api_version + \"/\" + post_id + \"/likes?access_token=\" + app_access_token\n",
    "url = urllib.urlopen(request_url).read()\n",
    "result = json.loads(url)\n",
    "#print result\n",
    "for liker in result['data']:\n",
    "    print liker['id'], liker['name']\n",
    "\n",
    "#Cursor issue, limited number of results per request\n",
    "while 'next' in result['paging']:\n",
    "    request_url = result['paging']['next']\n",
    "    url = urllib.urlopen(request_url).read()\n",
    "    result = json.loads(url)\n",
    "    for liker in result['data']:\n",
    "        print liker['id'],  liker['name']"
   ]
  },
  {
   "cell_type": "markdown",
   "metadata": {},
   "source": [
    "### Post Comments"
   ]
  },
  {
   "cell_type": "markdown",
   "metadata": {},
   "source": [
    "Fetch comments belong to the newest post"
   ]
  },
  {
   "cell_type": "code",
   "execution_count": 26,
   "metadata": {
    "collapsed": false
   },
   "outputs": [
    {
     "name": "stdout",
     "output_type": "stream",
     "text": [
      "Sergej Zuckermann :\n",
      "Last seaspns of grimm and bones. Nice\n",
      "____________________________________________________________________________________________________\n",
      "Jules Loupos :\n",
      "Julia & Peter do research\n",
      "____________________________________________________________________________________________________\n",
      "Nicky Boes :\n",
      "Eline Bonduelle Blindspot!\n",
      "____________________________________________________________________________________________________\n",
      "Matthew Basile :\n",
      "Chloe.......\n",
      "____________________________________________________________________________________________________\n",
      "Joy Wharton :\n",
      "Emma Wharton\n",
      "____________________________________________________________________________________________________\n",
      "Ilse Van de Groep :\n",
      "Michiel\n",
      "____________________________________________________________________________________________________\n",
      "Hilmar Helmundsson Højgaard :\n",
      "Oddur Højgaard\n",
      "____________________________________________________________________________________________________\n"
     ]
    }
   ],
   "source": [
    "#cursor issue can be solved like above, but in this case I will print limited number of comments\n",
    "request_url = \"https://graph.facebook.com/\" + api_version + \"/\" + post_id + \"/comments?access_token=\" + app_access_token\n",
    "url = urllib.urlopen(request_url).read()\n",
    "result = json.loads(url)\n",
    "for comment in result['data']:\n",
    "    print comment['from']['name'],\":\"\n",
    "    print comment['message']\n",
    "    print \"_\"*100"
   ]
  },
  {
   "cell_type": "markdown",
   "metadata": {},
   "source": [
    "### Likers of a Comment"
   ]
  },
  {
   "cell_type": "code",
   "execution_count": 35,
   "metadata": {
    "collapsed": false
   },
   "outputs": [
    {
     "name": "stdout",
     "output_type": "stream",
     "text": [
      "10212008261665184 Eline Bonduelle\n"
     ]
    }
   ],
   "source": [
    "request_url = \"https://graph.facebook.com/\" + api_version + \"/\" + post_id + \"/comments?access_token=\" + app_access_token\n",
    "url = urllib.urlopen(request_url).read()\n",
    "result = json.loads(url)\n",
    "comment_id = result['data'][2]['id']\n",
    "request_url = \"https://graph.facebook.com/\" + api_version + \"/\" + comment_id + \"/likes?access_token=\" + app_access_token\n",
    "url = urllib.urlopen(request_url).read()\n",
    "result = json.loads(url)\n",
    "for liker in result['data']:\n",
    "    print liker['id'], liker['name']"
   ]
  },
  {
   "cell_type": "markdown",
   "metadata": {},
   "source": [
    "## How to Fetch Data in Groups"
   ]
  },
  {
   "cell_type": "markdown",
   "metadata": {},
   "source": [
    "Similar to pages"
   ]
  },
  {
   "cell_type": "code",
   "execution_count": 37,
   "metadata": {
    "collapsed": true
   },
   "outputs": [],
   "source": [
    "page_name = '164851960539049' #Global variable. id can be used instead of name as in this case"
   ]
  },
  {
   "cell_type": "code",
   "execution_count": 38,
   "metadata": {
    "collapsed": false
   },
   "outputs": [
    {
     "name": "stdout",
     "output_type": "stream",
     "text": [
      "{u'id': u'164851960539049', u'name': u'Istanbul Startup Jobs', u'privacy': u'OPEN'}\n"
     ]
    }
   ],
   "source": [
    "#General info abour group\n",
    "request_url = \"https://graph.facebook.com/\" + api_version + \"/\" + page_name + \"/?access_token=\" + app_access_token\n",
    "url = urllib.urlopen(request_url).read()\n",
    "result = json.loads(url)\n",
    "#page_id = result['id']\n",
    "print result"
   ]
  },
  {
   "cell_type": "markdown",
   "metadata": {},
   "source": [
    "We only changes page name and everything beside of it is same, and we will apply the same procedure. The only difference is that in groups other people can also create posts and we can track these posts."
   ]
  },
  {
   "cell_type": "markdown",
   "metadata": {},
   "source": [
    "### Posts"
   ]
  },
  {
   "cell_type": "markdown",
   "metadata": {},
   "source": [
    "Problem in here, it is not possible to get the id of user who created the post"
   ]
  },
  {
   "cell_type": "code",
   "execution_count": 40,
   "metadata": {
    "collapsed": false
   },
   "outputs": [
    {
     "name": "stdout",
     "output_type": "stream",
     "text": [
      "____________________________________________________________________________________________________\n",
      "Kıdemli Backend Developer Arıyoruz!\n",
      "2017 Yılı'nın ilk yarısında online olacak, internet pazar yeri projemizde tam zamanlı olarak yer alacak bir takım arkadaşı arıyoruz:\n",
      "Minimum 2 yıl, özellikle e-ticaret platformu geliştirmede deneyim sahibisin (Daha önce e-ticaret ya da pazar yeri projelerinde uygulama geliştirdin)\n",
      "Teknik konuları takip edebilecek seviyede İngilizce biliyorsun\n",
      "Dünya çapında gelişime açık, çok heyecanlı bir projenin çekirdek ekibinde yer almaktan mutluluk duyarsın\n",
      "Tercihen İstanbul Anadolu Yakası'nda yaşıyorsun (Ofisimiz Şerifali'de)\n",
      "Öz disiplin sahibi, sektörel yenilikleri takip eden ve hızla uygulayan, kendine güvenen, meraklı, öğrenmeye açık, güler yüzlü, pozitif, hırslı, heyecanlı, esnek, çalışkan, enerjik, detaycı, yardım sever bir takım oyuncususun\n",
      "İyi kalpli, iyiliksever, pozitif, sorumlu, dengeli, adil, hoşgörülü, insancıl, hayvansever ve şeffaf bir insansın\n",
      "Tercihen sigara kullanmıyorsun\n",
      "Eğer yukarıda seni tanımladığımızı düşünüyorsan, hadi durma, hayallerininisi@gmail.com 'a Tıkla, yeni işini Kutla!\n",
      "____________________________________________________________________________________________________\n",
      "Merhaba!\n",
      "\n",
      "KWORKS Girişim Hızlandırma Programı için başvurular başladı.\n",
      "\n",
      "Birebir mentorluk, yatırımcılara erişim ve çalışma alanı desteklerinden yararlanmak için http://kworks.ku.edu.tr adresinden başvurunuzu gerçekleştirebilirsiniz.\n",
      "____________________________________________________________________________________________________\n",
      "Evdefitness.com stajyerlerini arıyor!\n",
      "\n",
      "https://www.stajim.net/evdefitness/front-end-developer-staj_1\n",
      "____________________________________________________________________________________________________\n",
      "Merhaba, ülkemizin başarılı SaaS girişimlerinden Prisync, Customer Support Specialist arıyor! \n",
      "____________________________________________________________________________________________________\n",
      "Hello!\n",
      "\n",
      "Does anyone here know about how do big hotels/restaurants/clubs do their inventory control in Turkey. What inventory system do they use, if any? Or do they calculate/write things down by hand?\n",
      "\n",
      "We are thinking about spreading our product to the Turkish market. We are as well looking for more distributors, if someone is interested can PM me. For more information see the link: \n",
      "____________________________________________________________________________________________________\n",
      "Karim Moh\n",
      "Hey I looking for a job I have 7 years experience in Hotel management and hospitality if you can assist me\n",
      "____________________________________________________________________________________________________\n",
      "Html, CSS3, Javascript, Jquery, Php, Pysql, laravel, Wordpress, Drupal teknolojilerine hakim, \n",
      "\n",
      "Html site tasarım ve kodlanması\n",
      "\n",
      "Full web sitesi kodlanması\n",
      "\n",
      "Wordperss tema hazılanması\n",
      "\n",
      "Drupal tema hazırlanması ( tekrar bakmam lazım )\n",
      "\n",
      "Laravel ile backend yazılması\n",
      "\n",
      "Front end işleri (html,css,javascript) konularında bilgili bir arkadaşımız,\n",
      "\n",
      "Freelance, yarı ve veya tam zamanlı çalışabileceği iş bakıyor. Konuyla ilgilenenlerin, DM yoluyla tarafıma ulaşmaları halinde arkadaşla iletişimleri sağlanacaktır.\n",
      "\n",
      "Teşekkür ederim.\n",
      "____________________________________________________________________________________________________\n",
      "ceptetamir.com tüm girişimcileri ve startup ları destekliyor. Bu ailenin bir üyesi olarak her zaman yanınızdayız.\n",
      "____________________________________________________________________________________________________\n",
      "Startup projelerinizin tasarımı için Photoshop aracılığıyla #ücretsiz bir şekilde prototip/tasarımını oluşturabilirim. İletişim için mesaj atabilirsiniz.\n",
      "#destek #ucretsiz #portfolio #tasarim #psd #design #startup #freedesign #isabilov\n",
      "____________________________________________________________________________________________________\n",
      "Hi,\n",
      "\n",
      "I am looking for an opportunity in the construction project management. I have 12 years experience in Dubai, United Arab Emirates. I have MBA from The University of Manchester, England. Anybody could assist me?\n",
      "____________________________________________________________________________________________________\n",
      "Karim Moh\n",
      "Hey I looking for a job I have 7 years experience in Hotel management and hospitality if you can assist me\n",
      "____________________________________________________________________________________________________\n",
      "Reklomastik ekibinden Youtube üzerinden girişim yaparak para kazanmak isteyenlere özel Youtube girişim akademisi\n",
      "Dijital dünyaya kocaman bir adım atmak için siz de bir göz atın.\n",
      "____________________________________________________________________________________________________\n",
      "http://www.weloveist.com/7-differences-turkey-russia\n",
      "____________________________________________________________________________________________________\n",
      "Gebze Organize Sanayi Bölgesi (GOSB) Teknopark'ta yer alan bir teknoloji şirketine istihdam edilmek üzere Bilgisayar Mühendisleri aranmaktadır.\n",
      "\n",
      "Aranan Özellikler:\n",
      "- Yeni mezun ya da 1-2 sene tecrubeli,\n",
      "- Temel programlama ve algoritma mantığına sahip,\n",
      "- C# ve SQL dillerini bilen,\n",
      "- İş bitirici, çözüm üreten, iş yapmaktan gocunmayan,\n",
      "- Öğrenmeye açık, kendisini geliştirmek isteyen.\n",
      "- Gebze'de ikamet eden veya GOSB'a gelip gidebilecek.\n",
      "\n",
      "Yukarıdaki özelliklere ek olarak,\n",
      "\n",
      "- PHP bilmek ve/veya\n",
      "- Android ve IOS aplikasyon geliştirme konusunda tecrübe sahibi olmak artı olarak değerlendirilecektir.\n",
      "\n",
      "Ne vadediyoruz?\n",
      "- Start-up şirketimizde rahat çalışma ortamı.\n",
      "- MS ve PHD için izin.\n",
      "- Başarıya endeksli ücret artışı.\n",
      "- Çalışan lehine esnek çalışma saatleri.\n",
      "\n",
      "İlgilenen kişilerin cv'lerini info@terziteknoloji.com adresine göndermelerini rica ederiz.\n",
      "\n",
      "İyi günler,\n",
      "____________________________________________________________________________________________________\n",
      "Accepting new private business clients\n",
      "\n",
      " Gaining confidence in SPEAKING! \n",
      "\n",
      "Areas of focus\n",
      "- Accent Reduction & Modification \n",
      "- Pronunciation, Intonation, Articulation\n",
      "- Professional Development\n",
      "- Job Coaching, Interviewing, Resumes, Cover Letters, Recommendation Letters\n",
      "- Academic Support (Writing, Reading, & Speaking)\n",
      "- Conversational & Professional Communication Development\n",
      "\n",
      "I've been teaching students for six years of all ages. Currently I'm living in Istanbul. I'm a native English teacher from Canada. I work with intermediate and advanced students. Together we will create the exact plan that works for you! I look forward to hearing from you. \n",
      "\n",
      "Best Regards, Jeremy\n",
      "____________________________________________________________________________________________________\n",
      "http://www.weloveist.com/\n",
      "____________________________________________________________________________________________________\n",
      "+++ SKI +++ STARTUPS +++ NETWORKING +++\n",
      "Still undecided whether to go on a ski trip or attend a startup conference this winter? Combine it by attending Skinnovation. Go skiing, attend great talks in the ski huts and connect with like-minded people while partying in a giant igloo.\n",
      "https://www.facebook.com/events/713227132158762/\n",
      "____________________________________________________________________________________________________\n",
      "Merhaba arkadaşlar,\n",
      "\n",
      "Yeni oyunumuz \"Korku Hastanesi\" Google play ve Steam(greenlight) de yayınlandı. Desteğinizi bekliyoruz.\n",
      "\n",
      "* Oyunu indirip 5 yıldız veren ve yorum yapan ilk 100 arkadaşa bana mesaj atmaları durumunda 5 dolarlık kod vereceğim.\n",
      "\n",
      "Akıl hastası bir adam, Hastane ve cesetler! Gizemi çöz ve korkunç hastaneden kurtul!\n",
      "\n",
      "Android ;\n",
      "\n",
      "* Oyunu yükledikten sonra lütfen cihazı yeniden başlatın. Google'ın neden olduğu bir sorun. Müzakereler devam ediyor bu soruna bir çözüm bulacağız. \n",
      "\n",
      "https://play.google.com/store/apps/details?id=com.KNP.HorrorHospital\n",
      "\n",
      "Steam ;\n",
      "\n",
      "http://steamcommunity.com/sharedfiles/filedetails/?id=809173323\n",
      "____________________________________________________________________________________________________\n",
      "İnternet girişimcisi olabilir misin, yoksa Kpss devam mı? \n",
      "Bu testin sonunda bunu öğreneceksin :)\n",
      "Ahmet Çakar\n",
      "Sinan Engin\n",
      "Rasim Ozan Kütahyalı\n",
      "Steve Jobs\n",
      "Kerimcan Durmaz\n",
      "seni bekliyor.\n",
      "____________________________________________________________________________________________________\n",
      "Arkadaşlar teknokentteki projemiz için İOS ve android yazılımcı arıyoruz.İlgilenenler bana mesaj yoluyla ulaşabilir mi?\n",
      "____________________________________________________________________________________________________\n",
      "I thought this might interest you. \n",
      "www.dropurpin.com\n",
      "\n",
      "DropUrPin helps ambitious and skilled professionals to find great JOBS ABROAD, FREELANCER JOBS or REMOTE WORK at famous companies or successful startups around the world to combine career with memorable travel experiences.\n",
      "____________________________________________________________________________________________________\n",
      "Ekip arkadaşları arıyoruz. Buradan inceleyebilirsiniz;\n",
      "____________________________________________________________________________________________________\n",
      "Nevzat Aydın'ın katılacağı Startup Grind'a 10 ücretsiz davetiye ektedir. Girişimci dostlar kaçırmasın 👍\n",
      "____________________________________________________________________________________________________\n",
      "Hello, I recently moved to Istanbul and I speak 3 languages fluently : Arabic , English and French .\n",
      "\n",
      "I have a bachelor degree in marketing and I am looking for a job in the marketing domain or public relations .\n",
      "\n",
      "Please advise , thank you .\n",
      "____________________________________________________________________________________________________\n",
      "İyzico'nun düzenlemiş olduğu \"Pazarlama\" konulu Mentör Görüşmesi etkinliği Çağdaş Önen'in katılımıyla 24 Kasım Perşembe günü, Üsküdar Fikir Sanat Merkezi'nde yapılacak.\n",
      "\n",
      "Detaylar ve kayıt için; https://www.traindy.com/class/iyzco-mentor-gorusmes-pazarlama\n"
     ]
    }
   ],
   "source": [
    "request_url = \"https://graph.facebook.com/\" + api_version + \"/\" + page_name + \"/feed?access_token=\" + app_access_token\n",
    "url = urllib.urlopen(request_url).read()\n",
    "result = json.loads(url)\n",
    "for post in result['data']:\n",
    "    print \"_\"*100\n",
    "    if 'message' in post:\n",
    "        print post['message']\n",
    "    #print post['id']"
   ]
  },
  {
   "cell_type": "markdown",
   "metadata": {},
   "source": [
    "# Search"
   ]
  },
  {
   "cell_type": "markdown",
   "metadata": {},
   "source": [
    "## Page Search"
   ]
  },
  {
   "cell_type": "code",
   "execution_count": 65,
   "metadata": {
    "collapsed": false
   },
   "outputs": [],
   "source": [
    "query = \"machine learning\"\n",
    "request_url = \"https://graph.facebook.com/\" + api_version + \"/search?q=\"+query+\"&type=page&access_token=\" + app_access_token\n",
    "url = urllib.urlopen(request_url).read()\n",
    "result = json.loads(url)"
   ]
  },
  {
   "cell_type": "code",
   "execution_count": 66,
   "metadata": {
    "collapsed": false
   },
   "outputs": [
    {
     "name": "stdout",
     "output_type": "stream",
     "text": [
      "____________________________________________________________________________________________________\n",
      "Machine Learning\n",
      "119762488098825\n",
      "____________________________________________________________________________________________________\n",
      "Learning Machine\n",
      "716181448412695\n",
      "____________________________________________________________________________________________________\n",
      "تعلم آلي\n",
      "112440992104486\n",
      "____________________________________________________________________________________________________\n",
      "Machine Learning\n",
      "107675749255490\n",
      "____________________________________________________________________________________________________\n",
      "Learning Machine\n",
      "1063171083740014\n",
      "____________________________________________________________________________________________________\n",
      "Machine Learning Group ULB\n",
      "250022468368925\n",
      "____________________________________________________________________________________________________\n",
      "Machine Learning Mastery\n",
      "1429846323896563\n",
      "____________________________________________________________________________________________________\n",
      "MachineLearning\n",
      "1728577810728579\n",
      "____________________________________________________________________________________________________\n",
      "Machine Learning Works\n",
      "118335501896735\n",
      "____________________________________________________________________________________________________\n",
      "Machine Learning and Computational Biology Lab\n",
      "361569250631783\n",
      "____________________________________________________________________________________________________\n",
      "Machine Learning with Python\n",
      "259397054392010\n",
      "____________________________________________________________________________________________________\n",
      "Learning Machine\n",
      "153487814829325\n",
      "____________________________________________________________________________________________________\n",
      "Machine Learning\n",
      "649575741868610\n",
      "____________________________________________________________________________________________________\n",
      "Machine Learning Meetups\n",
      "853453814674233\n",
      "____________________________________________________________________________________________________\n",
      "Machine Learning at Berkeley\n",
      "1701763616733787\n",
      "____________________________________________________________________________________________________\n",
      "Women in Machine Learning\n",
      "115322455150071\n",
      "____________________________________________________________________________________________________\n",
      "The Learning Machine\n",
      "1435521286672700\n",
      "____________________________________________________________________________________________________\n",
      "Logic learning machine\n",
      "1570546623213972\n",
      "____________________________________________________________________________________________________\n",
      "Open Machine Learning\n",
      "224613061055216\n",
      "____________________________________________________________________________________________________\n",
      "Udacity Machine Learning\n",
      "1878084399080396\n",
      "____________________________________________________________________________________________________\n",
      "5 Minute Learning Machine\n",
      "160957640606910\n",
      "____________________________________________________________________________________________________\n",
      "Extreme learning machine\n",
      "875653242556289\n",
      "____________________________________________________________________________________________________\n",
      "Machine Learning Stuff\n",
      "145253282318309\n",
      "____________________________________________________________________________________________________\n",
      "Journal of Machine Learning Research\n",
      "105607469472144\n",
      "____________________________________________________________________________________________________\n",
      "Machine Learning Prague\n",
      "418414248352395\n"
     ]
    }
   ],
   "source": [
    "pages = result['data']\n",
    "for page in pages:\n",
    "    print \"_\"*100\n",
    "    print page['name']\n",
    "    print page ['id']"
   ]
  },
  {
   "cell_type": "code",
   "execution_count": null,
   "metadata": {
    "collapsed": true
   },
   "outputs": [],
   "source": []
  }
 ],
 "metadata": {
  "kernelspec": {
   "display_name": "Python 2",
   "language": "python",
   "name": "python2"
  },
  "language_info": {
   "codemirror_mode": {
    "name": "ipython",
    "version": 2
   },
   "file_extension": ".py",
   "mimetype": "text/x-python",
   "name": "python",
   "nbconvert_exporter": "python",
   "pygments_lexer": "ipython2",
   "version": "2.7.12"
  }
 },
 "nbformat": 4,
 "nbformat_minor": 1
}
