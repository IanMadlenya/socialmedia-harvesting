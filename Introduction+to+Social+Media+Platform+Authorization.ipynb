{
 "cells": [
  {
   "cell_type": "markdown",
   "metadata": {},
   "source": [
    "# Authorization"
   ]
  },
  {
   "cell_type": "markdown",
   "metadata": {},
   "source": [
    "We can divide autorization types into two subsections: with and without user permissions. All social network platforms want you to create an application to fetch data. When you create your application, you are given an APP_ID and APP_SECRET. These are capable to fetch some data without a user's permission but most of the time you need to get user's permission to get more info about user."
   ]
  },
  {
   "cell_type": "markdown",
   "metadata": {},
   "source": [
    "## 1) Without User Permission"
   ]
  },
  {
   "cell_type": "markdown",
   "metadata": {},
   "source": [
    "As we stated above, this kind of applications have limited abilities except Twitter. In Twitter, you can fetch almost all information with APP_ID and APP_SECRET but in Facebook as an example you are allowed to only fetch public Page and Group data without user permission."
   ]
  },
  {
   "cell_type": "markdown",
   "metadata": {},
   "source": [
    "<img src=\"1.png\">"
   ]
  },
  {
   "cell_type": "markdown",
   "metadata": {},
   "source": [
    "STEP1: After creating your application, you need an app_access_token to fetch data and in this step you are requesting this access_token from social platform by using your APP_ID and APP_SECRET."
   ]
  },
  {
   "cell_type": "markdown",
   "metadata": {},
   "source": [
    "STEP2: Social platform responses your request with a valid access_token specific to your application."
   ]
  },
  {
   "cell_type": "markdown",
   "metadata": {},
   "source": [
    "## 2) With User Permission"
   ]
  },
  {
   "cell_type": "markdown",
   "metadata": {},
   "source": [
    "If your app want to get specific information about user than app_access_token will not be enough and you need to get user_access_token."
   ]
  },
  {
   "cell_type": "markdown",
   "metadata": {},
   "source": [
    "<img src=\"2.png\">"
   ]
  },
  {
   "cell_type": "markdown",
   "metadata": {},
   "source": [
    "STEP1: Request user's permission via a link which need to include your app info(APP_ID) and permission fields."
   ]
  },
  {
   "cell_type": "markdown",
   "metadata": {},
   "source": [
    "STEP2: If user click the link, he/she will be directed to social network with a pop-up which asks if he/she approves to give permission to your application."
   ]
  },
  {
   "cell_type": "markdown",
   "metadata": {},
   "source": [
    "STEP3: After user's permission, a code will be supplied to your web-app by social platform and it is needed to get user_access_token."
   ]
  },
  {
   "cell_type": "markdown",
   "metadata": {},
   "source": [
    "STEP4: By using this code, web-app will request for user_access_token."
   ]
  },
  {
   "cell_type": "markdown",
   "metadata": {},
   "source": [
    "STEP5: An access-token which is specific to user will be supplied to your web-app"
   ]
  }
 ],
 "metadata": {
  "kernelspec": {
   "display_name": "Python 2",
   "language": "python",
   "name": "python2"
  },
  "language_info": {
   "codemirror_mode": {
    "name": "ipython",
    "version": 2
   },
   "file_extension": ".py",
   "mimetype": "text/x-python",
   "name": "python",
   "nbconvert_exporter": "python",
   "pygments_lexer": "ipython2",
   "version": "2.7.12"
  }
 },
 "nbformat": 4,
 "nbformat_minor": 1
}
